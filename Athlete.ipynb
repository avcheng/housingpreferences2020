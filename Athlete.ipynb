{
 "cells": [
  {
   "cell_type": "code",
   "execution_count": 25,
   "outputs": [],
   "source": [
    "import csv\n",
    "import matplotlib\n",
    "import pandas as pd\n",
    "import numpy as np"
   ],
   "metadata": {
    "collapsed": false,
    "pycharm": {
     "name": "#%%\n",
     "is_executing": false
    }
   }
  },
  {
   "cell_type": "code",
   "execution_count": 6,
   "outputs": [
    {
     "data": {
      "text/plain": "    Please ONLY fill out this survey if you are a current freshman.  \\\n0                I am currently a freshman at Harvard.                \n1                I am currently a freshman at Harvard.                \n2                I am currently a freshman at Harvard.                \n3                I am currently a freshman at Harvard.                \n4                I am currently a freshman at Harvard.                \n..                                                 ...                \n268              I am currently a freshman at Harvard.                \n269              I am currently a freshman at Harvard.                \n270              I am currently a freshman at Harvard.                \n271              I am currently a freshman at Harvard.                \n272              I am currently a freshman at Harvard.                \n\n     Blocking group size  Adams  Cabot  Currier  Dunster  Eliot  Kirkland  \\\n0                      5      3     11       12        6      4         9   \n1                      8      5     11        9        3      8        12   \n2                      8      3      8        9        6      4        10   \n3                      3      1      9       10        7      2         3   \n4                      7      1     12       11        8      2         9   \n..                   ...    ...    ...      ...      ...    ...       ...   \n268                    8      4     11       10        5      6         9   \n269                    4      5     10        9        3      8        11   \n270                    8      2     12        9        7      3         5   \n271                    6      8     12       10        3      6         7   \n272                    5      4     10       11        2      7         9   \n\n     Leverett  Lowell  Mather  Pfoho  Quincy  Winthrop Gender:  \\\n0           7       2       5     10       8         1    Male   \n1           6       2       7     10       4         1  Female   \n2           5       1      11     12       2         7  Female   \n3           8       4       5     11       6        12    Male   \n4           7       3       6     10       4         5  Female   \n..        ...     ...     ...    ...     ...       ...     ...   \n268         7       1       8     12       3         2    Male   \n269         7       2       4     12       6         1     NaN   \n270        10       1       4      8       6        11     NaN   \n271         4       1       9     11       5         2     NaN   \n272         5       1       8     12       6         3     NaN   \n\n                     Ethnicity        Dorm:  \\\n0    Black or African American     Matthews   \n1                        Asian  Pennypacker   \n2                        Asian      Canaday   \n3                        White        Grays   \n4                        Asian      Canaday   \n..                         ...          ...   \n268                      White       Thayer   \n269                        NaN          NaN   \n270                        NaN          NaN   \n271                        NaN          NaN   \n272                        NaN          NaN   \n\n    Anticipated Concentration (select all that apply) Are you an athlete?  \n0                                 Applied Mathematics                  No  \n1                                    Computer Science                  No  \n2                                 Applied Mathematics                  No  \n3       Government,    Molecular and Cellular Biology                  No  \n4                                           Economics                  No  \n..                                                ...                 ...  \n268                                    Social Studies                  No  \n269                                               NaN                 NaN  \n270                                               NaN                 NaN  \n271                                               NaN                 NaN  \n272                                               NaN                 NaN  \n\n[273 rows x 19 columns]",
      "text/html": "<div>\n<style scoped>\n    .dataframe tbody tr th:only-of-type {\n        vertical-align: middle;\n    }\n\n    .dataframe tbody tr th {\n        vertical-align: top;\n    }\n\n    .dataframe thead th {\n        text-align: right;\n    }\n</style>\n<table border=\"1\" class=\"dataframe\">\n  <thead>\n    <tr style=\"text-align: right;\">\n      <th></th>\n      <th>Please ONLY fill out this survey if you are a current freshman.</th>\n      <th>Blocking group size</th>\n      <th>Adams</th>\n      <th>Cabot</th>\n      <th>Currier</th>\n      <th>Dunster</th>\n      <th>Eliot</th>\n      <th>Kirkland</th>\n      <th>Leverett</th>\n      <th>Lowell</th>\n      <th>Mather</th>\n      <th>Pfoho</th>\n      <th>Quincy</th>\n      <th>Winthrop</th>\n      <th>Gender:</th>\n      <th>Ethnicity</th>\n      <th>Dorm:</th>\n      <th>Anticipated Concentration (select all that apply)</th>\n      <th>Are you an athlete?</th>\n    </tr>\n  </thead>\n  <tbody>\n    <tr>\n      <td>0</td>\n      <td>I am currently a freshman at Harvard.</td>\n      <td>5</td>\n      <td>3</td>\n      <td>11</td>\n      <td>12</td>\n      <td>6</td>\n      <td>4</td>\n      <td>9</td>\n      <td>7</td>\n      <td>2</td>\n      <td>5</td>\n      <td>10</td>\n      <td>8</td>\n      <td>1</td>\n      <td>Male</td>\n      <td>Black or African American</td>\n      <td>Matthews</td>\n      <td>Applied Mathematics</td>\n      <td>No</td>\n    </tr>\n    <tr>\n      <td>1</td>\n      <td>I am currently a freshman at Harvard.</td>\n      <td>8</td>\n      <td>5</td>\n      <td>11</td>\n      <td>9</td>\n      <td>3</td>\n      <td>8</td>\n      <td>12</td>\n      <td>6</td>\n      <td>2</td>\n      <td>7</td>\n      <td>10</td>\n      <td>4</td>\n      <td>1</td>\n      <td>Female</td>\n      <td>Asian</td>\n      <td>Pennypacker</td>\n      <td>Computer Science</td>\n      <td>No</td>\n    </tr>\n    <tr>\n      <td>2</td>\n      <td>I am currently a freshman at Harvard.</td>\n      <td>8</td>\n      <td>3</td>\n      <td>8</td>\n      <td>9</td>\n      <td>6</td>\n      <td>4</td>\n      <td>10</td>\n      <td>5</td>\n      <td>1</td>\n      <td>11</td>\n      <td>12</td>\n      <td>2</td>\n      <td>7</td>\n      <td>Female</td>\n      <td>Asian</td>\n      <td>Canaday</td>\n      <td>Applied Mathematics</td>\n      <td>No</td>\n    </tr>\n    <tr>\n      <td>3</td>\n      <td>I am currently a freshman at Harvard.</td>\n      <td>3</td>\n      <td>1</td>\n      <td>9</td>\n      <td>10</td>\n      <td>7</td>\n      <td>2</td>\n      <td>3</td>\n      <td>8</td>\n      <td>4</td>\n      <td>5</td>\n      <td>11</td>\n      <td>6</td>\n      <td>12</td>\n      <td>Male</td>\n      <td>White</td>\n      <td>Grays</td>\n      <td>Government,    Molecular and Cellular Biology</td>\n      <td>No</td>\n    </tr>\n    <tr>\n      <td>4</td>\n      <td>I am currently a freshman at Harvard.</td>\n      <td>7</td>\n      <td>1</td>\n      <td>12</td>\n      <td>11</td>\n      <td>8</td>\n      <td>2</td>\n      <td>9</td>\n      <td>7</td>\n      <td>3</td>\n      <td>6</td>\n      <td>10</td>\n      <td>4</td>\n      <td>5</td>\n      <td>Female</td>\n      <td>Asian</td>\n      <td>Canaday</td>\n      <td>Economics</td>\n      <td>No</td>\n    </tr>\n    <tr>\n      <td>...</td>\n      <td>...</td>\n      <td>...</td>\n      <td>...</td>\n      <td>...</td>\n      <td>...</td>\n      <td>...</td>\n      <td>...</td>\n      <td>...</td>\n      <td>...</td>\n      <td>...</td>\n      <td>...</td>\n      <td>...</td>\n      <td>...</td>\n      <td>...</td>\n      <td>...</td>\n      <td>...</td>\n      <td>...</td>\n      <td>...</td>\n      <td>...</td>\n    </tr>\n    <tr>\n      <td>268</td>\n      <td>I am currently a freshman at Harvard.</td>\n      <td>8</td>\n      <td>4</td>\n      <td>11</td>\n      <td>10</td>\n      <td>5</td>\n      <td>6</td>\n      <td>9</td>\n      <td>7</td>\n      <td>1</td>\n      <td>8</td>\n      <td>12</td>\n      <td>3</td>\n      <td>2</td>\n      <td>Male</td>\n      <td>White</td>\n      <td>Thayer</td>\n      <td>Social Studies</td>\n      <td>No</td>\n    </tr>\n    <tr>\n      <td>269</td>\n      <td>I am currently a freshman at Harvard.</td>\n      <td>4</td>\n      <td>5</td>\n      <td>10</td>\n      <td>9</td>\n      <td>3</td>\n      <td>8</td>\n      <td>11</td>\n      <td>7</td>\n      <td>2</td>\n      <td>4</td>\n      <td>12</td>\n      <td>6</td>\n      <td>1</td>\n      <td>NaN</td>\n      <td>NaN</td>\n      <td>NaN</td>\n      <td>NaN</td>\n      <td>NaN</td>\n    </tr>\n    <tr>\n      <td>270</td>\n      <td>I am currently a freshman at Harvard.</td>\n      <td>8</td>\n      <td>2</td>\n      <td>12</td>\n      <td>9</td>\n      <td>7</td>\n      <td>3</td>\n      <td>5</td>\n      <td>10</td>\n      <td>1</td>\n      <td>4</td>\n      <td>8</td>\n      <td>6</td>\n      <td>11</td>\n      <td>NaN</td>\n      <td>NaN</td>\n      <td>NaN</td>\n      <td>NaN</td>\n      <td>NaN</td>\n    </tr>\n    <tr>\n      <td>271</td>\n      <td>I am currently a freshman at Harvard.</td>\n      <td>6</td>\n      <td>8</td>\n      <td>12</td>\n      <td>10</td>\n      <td>3</td>\n      <td>6</td>\n      <td>7</td>\n      <td>4</td>\n      <td>1</td>\n      <td>9</td>\n      <td>11</td>\n      <td>5</td>\n      <td>2</td>\n      <td>NaN</td>\n      <td>NaN</td>\n      <td>NaN</td>\n      <td>NaN</td>\n      <td>NaN</td>\n    </tr>\n    <tr>\n      <td>272</td>\n      <td>I am currently a freshman at Harvard.</td>\n      <td>5</td>\n      <td>4</td>\n      <td>10</td>\n      <td>11</td>\n      <td>2</td>\n      <td>7</td>\n      <td>9</td>\n      <td>5</td>\n      <td>1</td>\n      <td>8</td>\n      <td>12</td>\n      <td>6</td>\n      <td>3</td>\n      <td>NaN</td>\n      <td>NaN</td>\n      <td>NaN</td>\n      <td>NaN</td>\n      <td>NaN</td>\n    </tr>\n  </tbody>\n</table>\n<p>273 rows × 19 columns</p>\n</div>"
     },
     "metadata": {},
     "output_type": "execute_result",
     "execution_count": 6
    }
   ],
   "source": [
    "df = pd.read_csv('housing_prefs.csv')\n",
    "df"
   ],
   "metadata": {
    "collapsed": false,
    "pycharm": {
     "name": "#%%\n",
     "is_executing": false
    }
   }
  },
  {
   "cell_type": "code",
   "execution_count": 7,
   "outputs": [
    {
     "data": {
      "text/plain": "Blocking group size    6.043956\nAdams                  4.736264\nCabot                  9.824176\nCurrier                9.402930\nDunster                5.175824\nEliot                  5.890110\nKirkland               8.183150\nLeverett               6.842491\nLowell                 2.578755\nMather                 7.307692\nPfoho                  9.483516\nQuincy                 5.139194\nWinthrop               3.435897\ndtype: float64"
     },
     "metadata": {},
     "output_type": "execute_result",
     "execution_count": 7
    }
   ],
   "source": [
    "df.mean(axis=0)"
   ],
   "metadata": {
    "collapsed": false,
    "pycharm": {
     "name": "#%%\n",
     "is_executing": false
    }
   }
  },
  {
   "cell_type": "code",
   "execution_count": 20,
   "outputs": [],
   "source": [
    "athlete = df[df['Are you an athlete?'] == 'Yes'].drop(columns=['Blocking group size']).mean(axis=0)\n",
    "non_athlete = df[df['Are you an athlete?'] == 'No'].drop(columns=['Blocking group size']).mean(axis=0)\n",
    "\n",
    "df = pd.DataFrame({'Athlete': athlete,\n",
    "                   'Non-Athlete': non_athlete})\n",
    "ax = df.plot(kind='bar', title='Rankings for Athletes and Non-Athletes', color=[\"#D2232A\", \"000000\"], fontsize=20, width=0.9, figsize=(20,10))\n",
    "for p in ax.patches:\n",
    "    ax.annotate(np.round(p.get_height(),decimals=2), (p.get_x()+p.get_width()/2., p.get_height()), ha='center', va='center', xytext=(0, 10), textcoords='offset points', fontsize=12)\n",
    "ax.legend(loc=1, prop={'size': 20})\n",
    "ax.set_xlabel(\"House\", fontsize=20)\n",
    "ax.set_ylabel(\"Ranking\", fontsize=20)"
   ],
   "metadata": {
    "collapsed": false,
    "pycharm": {
     "name": "#%%\n",
     "is_executing": false
    }
   }
  },
  {
   "cell_type": "code",
   "execution_count": null,
   "outputs": [],
   "source": [
    "ax.get_figure().savefig('athlete.png')"
   ],
   "metadata": {
    "collapsed": false,
    "pycharm": {
     "name": "#%%\n"
    }
   }
  }
 ],
 "metadata": {
  "kernelspec": {
   "display_name": "Python 3",
   "language": "python",
   "name": "python3"
  },
  "language_info": {
   "codemirror_mode": {
    "name": "ipython",
    "version": 2
   },
   "file_extension": ".py",
   "mimetype": "text/x-python",
   "name": "python",
   "nbconvert_exporter": "python",
   "pygments_lexer": "ipython2",
   "version": "2.7.6"
  },
  "pycharm": {
   "stem_cell": {
    "cell_type": "raw",
    "source": [],
    "metadata": {
     "collapsed": false
    }
   }
  }
 },
 "nbformat": 4,
 "nbformat_minor": 0
}